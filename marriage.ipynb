{
 "cells": [
  {
   "cell_type": "code",
   "execution_count": 1,
   "metadata": {},
   "outputs": [],
   "source": [
    "import pandas as pd\n",
    "import numpy as np"
   ]
  },
  {
   "cell_type": "code",
   "execution_count": 2,
   "metadata": {},
   "outputs": [],
   "source": [
    "data=pd.read_csv('marriage1.csv')"
   ]
  },
  {
   "cell_type": "code",
   "execution_count": 3,
   "metadata": {},
   "outputs": [
    {
     "data": {
      "text/html": [
       "<div>\n",
       "<style scoped>\n",
       "    .dataframe tbody tr th:only-of-type {\n",
       "        vertical-align: middle;\n",
       "    }\n",
       "\n",
       "    .dataframe tbody tr th {\n",
       "        vertical-align: top;\n",
       "    }\n",
       "\n",
       "    .dataframe thead th {\n",
       "        text-align: right;\n",
       "    }\n",
       "</style>\n",
       "<table border=\"1\" class=\"dataframe\">\n",
       "  <thead>\n",
       "    <tr style=\"text-align: right;\">\n",
       "      <th></th>\n",
       "      <th>id</th>\n",
       "      <th>gender</th>\n",
       "      <th>height</th>\n",
       "      <th>religion</th>\n",
       "      <th>caste</th>\n",
       "      <th>mother_tongue</th>\n",
       "      <th>profession</th>\n",
       "      <th>location</th>\n",
       "      <th>country</th>\n",
       "      <th>age_of_marriage</th>\n",
       "    </tr>\n",
       "  </thead>\n",
       "  <tbody>\n",
       "    <tr>\n",
       "      <th>0</th>\n",
       "      <td>1</td>\n",
       "      <td>female</td>\n",
       "      <td>5'4\"</td>\n",
       "      <td>NaN</td>\n",
       "      <td>others</td>\n",
       "      <td>Telugu</td>\n",
       "      <td>NaN</td>\n",
       "      <td>London</td>\n",
       "      <td>United Kingdom</td>\n",
       "      <td>21.0</td>\n",
       "    </tr>\n",
       "    <tr>\n",
       "      <th>1</th>\n",
       "      <td>2</td>\n",
       "      <td>male</td>\n",
       "      <td>5'7\"</td>\n",
       "      <td>Jain</td>\n",
       "      <td>Shwetamber</td>\n",
       "      <td>Gujarati</td>\n",
       "      <td>Doctor / Healthcare Professional</td>\n",
       "      <td>Fairfax- VA</td>\n",
       "      <td>USA</td>\n",
       "      <td>32.0</td>\n",
       "    </tr>\n",
       "    <tr>\n",
       "      <th>2</th>\n",
       "      <td>3</td>\n",
       "      <td>male</td>\n",
       "      <td>5'7\"</td>\n",
       "      <td>Hindu</td>\n",
       "      <td>Brahmin</td>\n",
       "      <td>Hindi</td>\n",
       "      <td>Entrepreneurs / Business</td>\n",
       "      <td>Begusarai</td>\n",
       "      <td>India</td>\n",
       "      <td>32.0</td>\n",
       "    </tr>\n",
       "    <tr>\n",
       "      <th>3</th>\n",
       "      <td>4</td>\n",
       "      <td>female</td>\n",
       "      <td>5'0\"</td>\n",
       "      <td>Hindu</td>\n",
       "      <td>Thakur</td>\n",
       "      <td>Hindi</td>\n",
       "      <td>Architect</td>\n",
       "      <td>Mumbai</td>\n",
       "      <td>India</td>\n",
       "      <td>30.0</td>\n",
       "    </tr>\n",
       "    <tr>\n",
       "      <th>4</th>\n",
       "      <td>5</td>\n",
       "      <td>male</td>\n",
       "      <td>5'5\"</td>\n",
       "      <td>Christian</td>\n",
       "      <td>Born Again</td>\n",
       "      <td>Malayalam</td>\n",
       "      <td>Sales Professional / Marketing</td>\n",
       "      <td>Sulthan Bathery</td>\n",
       "      <td>India</td>\n",
       "      <td>30.0</td>\n",
       "    </tr>\n",
       "  </tbody>\n",
       "</table>\n",
       "</div>"
      ],
      "text/plain": [
       "   id  gender height   religion        caste mother_tongue  \\\n",
       "0   1  female   5'4\"        NaN       others        Telugu   \n",
       "1   2    male   5'7\"       Jain   Shwetamber      Gujarati   \n",
       "2   3    male   5'7\"      Hindu      Brahmin         Hindi   \n",
       "3   4  female   5'0\"      Hindu       Thakur         Hindi   \n",
       "4   5    male   5'5\"  Christian   Born Again     Malayalam   \n",
       "\n",
       "                         profession         location          country  \\\n",
       "0                               NaN           London   United Kingdom   \n",
       "1  Doctor / Healthcare Professional      Fairfax- VA              USA   \n",
       "2         Entrepreneurs / Business         Begusarai            India   \n",
       "3                         Architect           Mumbai            India   \n",
       "4    Sales Professional / Marketing  Sulthan Bathery            India   \n",
       "\n",
       "   age_of_marriage  \n",
       "0             21.0  \n",
       "1             32.0  \n",
       "2             32.0  \n",
       "3             30.0  \n",
       "4             30.0  "
      ]
     },
     "execution_count": 3,
     "metadata": {},
     "output_type": "execute_result"
    }
   ],
   "source": [
    "data.head()"
   ]
  },
  {
   "cell_type": "code",
   "execution_count": 4,
   "metadata": {},
   "outputs": [
    {
     "name": "stdout",
     "output_type": "stream",
     "text": [
      "<class 'pandas.core.frame.DataFrame'>\n",
      "RangeIndex: 2567 entries, 0 to 2566\n",
      "Data columns (total 10 columns):\n",
      " #   Column           Non-Null Count  Dtype  \n",
      "---  ------           --------------  -----  \n",
      " 0   id               2567 non-null   int64  \n",
      " 1   gender           2538 non-null   object \n",
      " 2   height           2449 non-null   object \n",
      " 3   religion         1932 non-null   object \n",
      " 4   caste            2425 non-null   object \n",
      " 5   mother_tongue    2403 non-null   object \n",
      " 6   profession       2237 non-null   object \n",
      " 7   location         2412 non-null   object \n",
      " 8   country          2551 non-null   object \n",
      " 9   age_of_marriage  2548 non-null   float64\n",
      "dtypes: float64(1), int64(1), object(8)\n",
      "memory usage: 200.7+ KB\n"
     ]
    }
   ],
   "source": [
    "data.info()"
   ]
  },
  {
   "cell_type": "code",
   "execution_count": 5,
   "metadata": {},
   "outputs": [
    {
     "data": {
      "text/html": [
       "<div>\n",
       "<style scoped>\n",
       "    .dataframe tbody tr th:only-of-type {\n",
       "        vertical-align: middle;\n",
       "    }\n",
       "\n",
       "    .dataframe tbody tr th {\n",
       "        vertical-align: top;\n",
       "    }\n",
       "\n",
       "    .dataframe thead th {\n",
       "        text-align: right;\n",
       "    }\n",
       "</style>\n",
       "<table border=\"1\" class=\"dataframe\">\n",
       "  <thead>\n",
       "    <tr style=\"text-align: right;\">\n",
       "      <th></th>\n",
       "      <th>id</th>\n",
       "      <th>age_of_marriage</th>\n",
       "    </tr>\n",
       "  </thead>\n",
       "  <tbody>\n",
       "    <tr>\n",
       "      <th>count</th>\n",
       "      <td>2567.000000</td>\n",
       "      <td>2548.000000</td>\n",
       "    </tr>\n",
       "    <tr>\n",
       "      <th>mean</th>\n",
       "      <td>1284.000000</td>\n",
       "      <td>29.648352</td>\n",
       "    </tr>\n",
       "    <tr>\n",
       "      <th>std</th>\n",
       "      <td>741.173394</td>\n",
       "      <td>2.802414</td>\n",
       "    </tr>\n",
       "    <tr>\n",
       "      <th>min</th>\n",
       "      <td>1.000000</td>\n",
       "      <td>20.000000</td>\n",
       "    </tr>\n",
       "    <tr>\n",
       "      <th>25%</th>\n",
       "      <td>642.500000</td>\n",
       "      <td>28.000000</td>\n",
       "    </tr>\n",
       "    <tr>\n",
       "      <th>50%</th>\n",
       "      <td>1284.000000</td>\n",
       "      <td>30.000000</td>\n",
       "    </tr>\n",
       "    <tr>\n",
       "      <th>75%</th>\n",
       "      <td>1925.500000</td>\n",
       "      <td>32.000000</td>\n",
       "    </tr>\n",
       "    <tr>\n",
       "      <th>max</th>\n",
       "      <td>2567.000000</td>\n",
       "      <td>36.000000</td>\n",
       "    </tr>\n",
       "  </tbody>\n",
       "</table>\n",
       "</div>"
      ],
      "text/plain": [
       "                id  age_of_marriage\n",
       "count  2567.000000      2548.000000\n",
       "mean   1284.000000        29.648352\n",
       "std     741.173394         2.802414\n",
       "min       1.000000        20.000000\n",
       "25%     642.500000        28.000000\n",
       "50%    1284.000000        30.000000\n",
       "75%    1925.500000        32.000000\n",
       "max    2567.000000        36.000000"
      ]
     },
     "execution_count": 5,
     "metadata": {},
     "output_type": "execute_result"
    }
   ],
   "source": [
    "data.describe()"
   ]
  },
  {
   "cell_type": "code",
   "execution_count": 6,
   "metadata": {},
   "outputs": [
    {
     "data": {
      "text/plain": [
       "array([nan, 'Jain', 'Hindu', 'Christian', 'Muslim', 'Sikh'], dtype=object)"
      ]
     },
     "execution_count": 6,
     "metadata": {},
     "output_type": "execute_result"
    }
   ],
   "source": [
    "data.religion.unique()"
   ]
  },
  {
   "cell_type": "code",
   "execution_count": 7,
   "metadata": {},
   "outputs": [
    {
     "data": {
      "text/plain": [
       "array(['others', ' Shwetamber', ' Brahmin', ' Thakur', ' Born Again',\n",
       "       ' Valmiki', ' Rajput - Lodhi', ' Bhatia', ' Billava', ' Vanniyar',\n",
       "       ' Agri', ' Marthoma', ' Ahom', ' Baishnab', ' Roman Catholic',\n",
       "       ' Lingayath', ' Kalita', ' Vaishnav', nan, ' Sahu', ' Baishya',\n",
       "       ' Memon', ' Agarwal', ' Panchal', ' Baidya', ' Kaibarta',\n",
       "       ' Sindhi-Sakkhar', ' Viswabrahmin', ' Patel',\n",
       "       ' Scheduled Caste (SC)', ' Kshatriya', ' Ramdasia', ' Khatri',\n",
       "       ' OBC - Barber/Naayee', ' Baniya', ' Goud', ' Balija', ' Arora',\n",
       "       ' Kayastha', ' Gursikh', ' Arya Vysya', ' Bhandari', ' Saini'],\n",
       "      dtype=object)"
      ]
     },
     "execution_count": 7,
     "metadata": {},
     "output_type": "execute_result"
    }
   ],
   "source": [
    "data.caste.unique() #nan in others"
   ]
  },
  {
   "cell_type": "code",
   "execution_count": 8,
   "metadata": {},
   "outputs": [
    {
     "data": {
      "text/plain": [
       "id                   0\n",
       "gender              29\n",
       "height             118\n",
       "religion           635\n",
       "caste              142\n",
       "mother_tongue      164\n",
       "profession         330\n",
       "location           155\n",
       "country             16\n",
       "age_of_marriage     19\n",
       "dtype: int64"
      ]
     },
     "execution_count": 8,
     "metadata": {},
     "output_type": "execute_result"
    }
   ],
   "source": [
    "data.isnull().sum() #drop height,age of marriage,country"
   ]
  },
  {
   "cell_type": "code",
   "execution_count": 9,
   "metadata": {},
   "outputs": [],
   "source": [
    "data.dropna(subset=['height'],inplace=True)\n",
    "data.dropna(subset=['age_of_marriage'],inplace=True)\n",
    "data.dropna(subset=['country'],inplace=True)"
   ]
  },
  {
   "cell_type": "code",
   "execution_count": 10,
   "metadata": {},
   "outputs": [
    {
     "name": "stdout",
     "output_type": "stream",
     "text": [
      "<class 'pandas.core.frame.DataFrame'>\n",
      "Int64Index: 2414 entries, 0 to 2566\n",
      "Data columns (total 10 columns):\n",
      " #   Column           Non-Null Count  Dtype  \n",
      "---  ------           --------------  -----  \n",
      " 0   id               2414 non-null   int64  \n",
      " 1   gender           2406 non-null   object \n",
      " 2   height           2414 non-null   object \n",
      " 3   religion         1932 non-null   object \n",
      " 4   caste            2309 non-null   object \n",
      " 5   mother_tongue    2306 non-null   object \n",
      " 6   profession       2175 non-null   object \n",
      " 7   location         2317 non-null   object \n",
      " 8   country          2414 non-null   object \n",
      " 9   age_of_marriage  2414 non-null   float64\n",
      "dtypes: float64(1), int64(1), object(8)\n",
      "memory usage: 207.5+ KB\n"
     ]
    }
   ],
   "source": [
    "data.info()"
   ]
  },
  {
   "cell_type": "code",
   "execution_count": 11,
   "metadata": {},
   "outputs": [
    {
     "data": {
      "text/plain": [
       "array(['5\\'4\"', '5\\'7\"', '5\\'0\"', '5\\'5\"', '5\\'2\"', '5\\'1\"', '5\\'3\"',\n",
       "       '5\\'9\"', '5\\'10\"', '5\\'6\"', '4\\'5\"', '5\\'11\"', '5\\'8\"', '6\\'5\"',\n",
       "       '4\\'11\"', '4\\'7\"', '4\\'9\"', '6\\'2\"', '6\\'1\"', '6\\'0\"', '4\\'6\"',\n",
       "       '4\\'10\"', '4\\'8\"', '6\\'10\"', '6\\'8\"', '6\\'3\"', '7\\'0\"', '6\\'4\"'],\n",
       "      dtype=object)"
      ]
     },
     "execution_count": 11,
     "metadata": {},
     "output_type": "execute_result"
    }
   ],
   "source": [
    "data.height.unique()"
   ]
  },
  {
   "cell_type": "code",
   "execution_count": 12,
   "metadata": {},
   "outputs": [
    {
     "name": "stdout",
     "output_type": "stream",
     "text": [
      "<class 'pandas.core.frame.DataFrame'>\n",
      "Int64Index: 2414 entries, 0 to 2566\n",
      "Data columns (total 10 columns):\n",
      " #   Column           Non-Null Count  Dtype  \n",
      "---  ------           --------------  -----  \n",
      " 0   id               2414 non-null   int64  \n",
      " 1   gender           2406 non-null   object \n",
      " 2   height           2414 non-null   object \n",
      " 3   religion         1932 non-null   object \n",
      " 4   caste            2309 non-null   object \n",
      " 5   mother_tongue    2306 non-null   object \n",
      " 6   profession       2175 non-null   object \n",
      " 7   location         2317 non-null   object \n",
      " 8   country          2414 non-null   object \n",
      " 9   age_of_marriage  2414 non-null   float64\n",
      "dtypes: float64(1), int64(1), object(8)\n",
      "memory usage: 207.5+ KB\n"
     ]
    }
   ],
   "source": [
    "data.info()"
   ]
  },
  {
   "cell_type": "code",
   "execution_count": 13,
   "metadata": {},
   "outputs": [
    {
     "data": {
      "text/plain": [
       "array([nan, 'Jain', 'Hindu', 'Christian', 'Muslim', 'Sikh'], dtype=object)"
      ]
     },
     "execution_count": 13,
     "metadata": {},
     "output_type": "execute_result"
    }
   ],
   "source": [
    "data.religion.unique()"
   ]
  },
  {
   "cell_type": "code",
   "execution_count": 14,
   "metadata": {},
   "outputs": [
    {
     "data": {
      "text/plain": [
       "array([' United Kingdom', ' USA', ' India', ' Australia',\n",
       "       ' United Arab Emirates', ' Canada', ' Netherlands', ' Malaysia',\n",
       "       ' Sweden', ' Qatar', ' Denmark', ' New Zealand', ' Myanmar',\n",
       "       ' Hong Kong SAR', ' Pakistan', ' Bangladesh', ' Italy', ' Kuwait',\n",
       "       ' Japan', ' Bahrain', ' Nigeria', ' Ireland', ' Singapore',\n",
       "       ' Oman', ' Philippines', ' Norway', ' Germany', ' South Africa'],\n",
       "      dtype=object)"
      ]
     },
     "execution_count": 14,
     "metadata": {},
     "output_type": "execute_result"
    }
   ],
   "source": [
    "data.country.unique()"
   ]
  },
  {
   "cell_type": "code",
   "execution_count": 15,
   "metadata": {},
   "outputs": [
    {
     "data": {
      "text/plain": [
       "array(['5\\'4\"', '5\\'7\"', '5\\'0\"', '5\\'5\"', '5\\'2\"', '5\\'1\"', '5\\'3\"',\n",
       "       '5\\'9\"', '5\\'10\"', '5\\'6\"', '4\\'5\"', '5\\'11\"', '5\\'8\"', '6\\'5\"',\n",
       "       '4\\'11\"', '4\\'7\"', '4\\'9\"', '6\\'2\"', '6\\'1\"', '6\\'0\"', '4\\'6\"',\n",
       "       '4\\'10\"', '4\\'8\"', '6\\'10\"', '6\\'8\"', '6\\'3\"', '7\\'0\"', '6\\'4\"'],\n",
       "      dtype=object)"
      ]
     },
     "execution_count": 15,
     "metadata": {},
     "output_type": "execute_result"
    }
   ],
   "source": [
    "data.height.unique()"
   ]
  },
  {
   "cell_type": "code",
   "execution_count": 16,
   "metadata": {},
   "outputs": [
    {
     "data": {
      "text/plain": [
       "array(['Telugu', 'Gujarati', 'Hindi', 'Malayalam', 'Punjabi', 'Tulu',\n",
       "       'Tamil', 'Bengali', 'Marathi', 'Marwari', 'Assamese', 'Kannada',\n",
       "       nan, 'Sindhi', 'English', 'Odia', 'Konkani', 'Chattisgarhi',\n",
       "       'Kutchi', 'Bhojpuri', 'Urdu', 'Nepali', 'Haryanavi', 'Other',\n",
       "       'Rajasthani', 'Manipuri', 'Aka', 'Kashmiri'], dtype=object)"
      ]
     },
     "execution_count": 16,
     "metadata": {},
     "output_type": "execute_result"
    }
   ],
   "source": [
    "data.mother_tongue.unique() #nan in other"
   ]
  },
  {
   "cell_type": "code",
   "execution_count": 17,
   "metadata": {},
   "outputs": [
    {
     "data": {
      "text/plain": [
       "array(['London', 'Fairfax- VA', 'Begusarai', 'Mumbai', 'Sulthan Bathery',\n",
       "       'Delhi', 'Jodhpur', 'Faridabad', 'Vadodara',\n",
       "       'Bengaluru / Bangalore', 'Chennai', 'Suri', 'Vellore', 'Kollam',\n",
       "       'Assam', 'Dhubri', 'Midnapore', 'Jorhat', 'Pleasanton- CA',\n",
       "       'Raigad', 'San Francisco- CA', 'Noida', nan, 'Sagar', 'Kolkata',\n",
       "       'Lucknow', 'Berhampur', 'Lakhisarai', 'Mysuru / Mysore', 'Sydney',\n",
       "       'Panchkula', 'Agra', 'Karnal', 'Ahmedabad', 'Silchar', 'Sibsagar',\n",
       "       'Howra', 'Kozhikode', 'Gwalior', 'Aligarh', 'Tanuku', 'Dubai',\n",
       "       'Siliguri', 'Punjab', 'Chicago- IL', 'Coimbatore', 'Ratnagiri',\n",
       "       'Guwahati', 'Orissa', 'Gorakhpur', 'Moga', 'Golaghat', 'Cuttack',\n",
       "       'Surat', 'Goa', 'Maharashtra', 'Bhadrak', 'Patiala', 'Surrey',\n",
       "       'Anantapur', 'Hubbali-Dharwad', 'Mangaluru / Mangalore', 'Anand',\n",
       "       'Malda', 'Atlanta- GA', 'Hyderabad', 'Titakudi', 'Delhi-NCR',\n",
       "       'West Bengal', 'Nellore', 'Pune', 'Belagavi / Belagaum', 'Nashik',\n",
       "       'Tirupati', 'Amritsar', 'Bhadrachalam', 'Burhanpur', 'Balangir',\n",
       "       'Sonepat', 'Jaipur', 'Ranchi', 'Indore', 'Tadepalligudem',\n",
       "       'Visakhapatnam', 'Aurangabad', 'Bhopal', 'Dibrugarh', 'Panikoili',\n",
       "       'Ludhiana', 'Albertville- AL', 'Chandigarh', 'Suryapet', 'Adoni',\n",
       "       'Jamshedpur', 'Rupnagar', 'Unnao', 'Toronto', 'Theni', 'Gujarat',\n",
       "       'Kharagpur', 'Kanpur', 'Sitapur', 'Puri', 'Bathinda', 'Other',\n",
       "       'Thiruvananthapuram', 'Palakkad', 'Nandurbar', 'Melbourne',\n",
       "       'Karimnagar', 'Janjgir', 'Alipore', 'Deoghar', 'Mancherial',\n",
       "       'Bharuch', 'Mathura', 'Belleville- NJ', 'Gandhinagar', 'Mandi',\n",
       "       'Jhunjhunun', 'Jhansi', 'Raipur', 'Cambridge- MA', 'Uttar Pradesh',\n",
       "       'Panruti', 'Gurgaon', 'Nagpur', 'Patna', 'Raigarh', 'Karnataka',\n",
       "       'Bidar', 'Bankura', 'Dungarpur', 'Jharsuguda', 'Vancouver',\n",
       "       'Hoshiarpur', 'Balurghat', 'Davanagere', 'Dehradun', 'Rajasthan',\n",
       "       'Vijayapura / Bijapur', 'Mohali', 'Udupi', 'Tempe- AZ', 'Bhandara',\n",
       "       'Rajnandgaon', 'Stockbridge- GA', 'Selangor', 'Chhattisgarh',\n",
       "       'Ghaziabad', 'Bilaspur', 'Jammu', 'Dhemaji', 'New York- NY',\n",
       "       'Kundapura', 'Durg', 'Edmonton', 'Sunnyvale- CA', 'Chinsurah',\n",
       "       'Akola', 'Ujjain', 'Bihar Sharif', 'Hosapete', 'Panaji',\n",
       "       'Cary- NC', 'Kalaburagi / Gulbarga', 'Nirmal', 'Saint Catharines',\n",
       "       'Madison- WI', 'Dhenkanal', 'Kolhapur', 'Denver- CO',\n",
       "       'Mesquite- TX', 'Nandyal', 'Alwar', 'Rajahmundry',\n",
       "       'Arlington Heights- IL', 'Ajman', 'Tumakuru', 'Raichur',\n",
       "       'Jersey City- NJ', 'Navsari', 'Seattle- WA', 'Al Khawr',\n",
       "       'Challakere', 'Bhavnagar', 'Solapur', 'Yadagirigutta', 'Nizamabad',\n",
       "       'Hanumangarh', 'Jalandhar', 'Chittoor', 'Buldhana',\n",
       "       'Barking And Dagenham', 'Florida', 'Kadiri', 'Baleshwar',\n",
       "       'Berhampore', 'Gadag / Betigeri', 'Manjeri', 'Boulder- CO',\n",
       "       'Ahmednagar', 'Meerut', 'Kuala Lumpur', 'Sangli', 'Rajkot',\n",
       "       'Mandla', 'Ranga Reddy', 'Dispur', 'Texas City- TX', 'Jaunpur',\n",
       "       'Nalgonda', 'Cuddalore', 'Warangal', 'Eluru', 'Barasat', 'Vapi',\n",
       "       'Gadwal', 'Anekal', 'Bokaro Steel City', 'Abu Dhabi', 'Kaithal',\n",
       "       'Jabalpur', 'Chengam', 'Neemuch', 'Rae Bareli', 'Auckland',\n",
       "       'Ajmer', 'Cuddapah / Kadapa', 'Logan City', 'Sharjah',\n",
       "       'Samastipur', 'Des Moines- IA', 'Glen Allen- VA', 'Leicester',\n",
       "       'Balaghat', 'Charlotte- NC', 'Sangrur', 'Montreal', 'Bongaigaon',\n",
       "       'Bhubaneswar', 'Bageshwar', 'Tenali', 'Taunggyi', 'Nagaon',\n",
       "       'Secunderabad', 'Nashville- TN', 'Pondicherry', 'Alwal',\n",
       "       'Rayagada', 'Vijayawada', 'Hong Kong (general)', 'Haldwani',\n",
       "       'San Jose- CA', 'Bhagalpur', 'Brisbane', 'Guntur', 'Yamunanagar',\n",
       "       'Springfield- OH', 'San Diego- CA', 'Diphu', 'Kawardha',\n",
       "       'Kishanganj', 'Chikkamagaluru', 'Latur', 'Adipur', 'Dallas- TX',\n",
       "       'Pilibhit', 'Ballia', 'Andhra Pradesh', 'Satna',\n",
       "       'Philadelphia- PA', 'Bargarh', 'Bheemavaram', 'Udaipur',\n",
       "       'Hoshangabad', 'Yorkshire', 'Bardhaman', 'Shivamogga',\n",
       "       'Boston- MA', 'Fatehgarh', 'Kurukshetra', 'Haveri', 'Mississauga',\n",
       "       'Nalbari', 'Ernakulam', 'Dharmapuri', 'Mangaldai',\n",
       "       'Chicago Heights- IL', 'Darjeeling', 'Rewari', 'Fatehgarh Sahib',\n",
       "       'Rajpipla', 'Pathanamthitta', 'Harihar', 'Purnia', 'Chabasa',\n",
       "       'Bahraich', 'Kheda', 'Burtonsville- MD', 'Hamirpur', 'Yavatmal',\n",
       "       'Una', 'Haryana', 'Lahore', 'Ambala', 'Ara', 'Krishnanagar',\n",
       "       'Fatehpur', 'Hamilton', 'Siddipet', 'Viluppuram', 'Henderson- NV',\n",
       "       'Brampton', 'Nayagarh', 'Dhaka', 'Hailakandi', 'Alappuzha',\n",
       "       'Bareilly', 'Kent- WA', 'Sukkur', 'Auraiya', 'Thanjavur', 'Tezu',\n",
       "       'Hoovina Hadagalli', 'Uttaranchal', 'Kasaragod', 'Columbus- OH',\n",
       "       'Jalgaon', 'Enfield', 'Kakinada', 'Sangareddy', 'Houston- TX',\n",
       "       'Baltimore- MD', 'Los Angeles- CA', 'Katni', 'Bedfordshire',\n",
       "       'Pali', 'Baripada', 'Markham', 'Idukki', 'Folsom- CA', 'Parbhani',\n",
       "       'Pulau Pinang', 'Dera Allah Yar', 'Kirkcaldy', 'Ponnur', 'Erode',\n",
       "       'Pathankot', 'Narnaul', 'Medford- NY', 'Salem',\n",
       "       'Ballari / Bellary', 'Nanded', 'Beed', 'Yercaud', 'Tripura',\n",
       "       'Jamnagar', 'Hazaribag', 'Kochi', 'Dowleswaram', 'Chandrapur',\n",
       "       'Tiruvallur', 'Boudh', 'Greater London / Middlesex', 'Clemson- SC',\n",
       "       'Kuwait', 'Giridih', 'Durgapur', 'Valsad', 'Bhatkal', 'Madhubani',\n",
       "       'Shirhatti', 'Deoria', 'Allahabad', 'Srikakulam', 'Kottayam',\n",
       "       'Chhindwara', 'Richmond- VA', 'Al Jumaliyah', 'Adamsville- AL',\n",
       "       'Manugur', 'Saharanpur', 'Khammam', 'Rohtak', 'Seoni', 'Windsor',\n",
       "       'Carrollton- TX', 'Tokyo', 'Dindigul', 'Bellampalle', 'Al-Kuwayt',\n",
       "       'Texas', 'Varanasi', 'Namakkal', 'Virudhunagar', 'Ganganagar',\n",
       "       'Lohardaga', 'Hillsboro- OR', 'Newcastle Upon Tyne', 'Muktsar',\n",
       "       'Orlando- FL', 'Washington- DC', 'Shahjahanpur', 'Betul',\n",
       "       'Jidd Haffs', 'Hoskote', 'Kannur', 'Thrissur', 'Ontario',\n",
       "       'Geelong', 'Muzaffarnagar', 'Nuzvid',\n",
       "       'Ramachandrapuram-Bhel Township', 'Agartala', 'Solan', 'Reading',\n",
       "       'New Jersey', 'Kumbakonam', 'Gandhidham', 'Kurnool', 'Dharamasala',\n",
       "       'Warwick- RI', 'Irving- TX', 'Tiruppur', 'Marigaon', 'Chitradurga',\n",
       "       'Roorkee', 'Himachal Pradesh', 'Pudukkottai', 'Shah Alam',\n",
       "       'Tiruvannamalai', 'Newark- CA', 'Madurai', 'Krishnagiri',\n",
       "       'Channapatna', 'Benson- AZ', 'Dublin', 'Darwin', 'Margao',\n",
       "       'Haridwar', 'Singapore', 'Al-Farawaniyah', 'Budaun', 'Sambalpur',\n",
       "       'Liverpool', 'West Midlands', 'Harrow', 'Kedah', 'Muscat',\n",
       "       'Chamrajnagar', 'Porbandar', 'Sundargarh', 'Nawan Shehar',\n",
       "       'Farmington Hills- MI', 'Vizianagaram', 'Fort Lauderdale- FL',\n",
       "       'Baran', 'Dhanbad', 'Phulbani', 'Asansol', 'Koraput',\n",
       "       'Claymont- DE', 'Duluth- GA', 'Lakhimpur', 'Hoboken- NJ', 'Bijnor',\n",
       "       'Bulandshahr', 'Iselin- NJ', 'Piriyapatna', 'Taguig', 'Oslo',\n",
       "       'Suhl', 'Honnavar', 'Mahbubnagar', 'Kelang', 'Puruliya', 'Mahoba',\n",
       "       'Hosur', 'Medak', 'Gondiya', 'Kondotty', 'Coventry',\n",
       "       'Fayetteville- NC', 'Ramachandrapuram(Medak)', 'Durban', 'Hassan',\n",
       "       'Al Batinah', 'Savannah- GA', 'Bellevue- WA', 'Amalapuram',\n",
       "       'Moradabad', 'Bay Shore- NY', 'Sitamarhi', 'Rajgarh',\n",
       "       'Old Bridge- NJ', 'Vidisha', 'Kandukur', 'Sterling Heights- MI',\n",
       "       'Dhamtari', 'Berlin', 'Canberra', 'Kamareddy', 'Samalkota',\n",
       "       'Rockville- MD', 'Portland- OR', 'Victoria', 'Buhasa', 'Satara',\n",
       "       'Mokokchung', 'Faizabad', 'King Of Prussia- PA', 'Vaughan',\n",
       "       'Bhongir', 'Pittsburgh- PA', 'Cooch Behar', 'Siwan', 'Kannauj',\n",
       "       'S-Gravenhage', 'Barisal', 'Kupwara', 'Ottawa'], dtype=object)"
      ]
     },
     "execution_count": 17,
     "metadata": {},
     "output_type": "execute_result"
    }
   ],
   "source": [
    "data.location.unique()#nan in other"
   ]
  },
  {
   "cell_type": "code",
   "execution_count": null,
   "metadata": {},
   "outputs": [],
   "source": []
  },
  {
   "cell_type": "code",
   "execution_count": 18,
   "metadata": {},
   "outputs": [
    {
     "data": {
      "text/plain": [
       "array([nan, 'Doctor / Healthcare Professional',\n",
       "       'Entrepreneurs / Business ', 'Architect',\n",
       "       'Sales Professional / Marketing', 'Sportsman',\n",
       "       'Banking Professional', 'Software Professional', 'HR Professional',\n",
       "       'Not working', 'Finance Professional', 'Not Specified',\n",
       "       'Chartered Accountant', 'Logistics and Travel Professional',\n",
       "       'Defense Services', 'Marketing Professional',\n",
       "       'Team Member / Staff', 'Managers and Senior Executives',\n",
       "       'Hardware & Networking professional', 'Civil Engineer',\n",
       "       'Admin Professional', 'Accounting Professional (Others)',\n",
       "       'Investment Professional', 'Consultant / Supervisor / Team Leads',\n",
       "       'Public Relations Professional', 'Training Professional (Others)',\n",
       "       'Hotel & Hospitality Professional (Others)',\n",
       "       'Software Professional (Others)', 'Nurse', 'Artist (Others)',\n",
       "       'Non IT Engineer (Others)', 'Event Manager',\n",
       "       'Science Professional (Others)',\n",
       "       'Mechanical / Production Engineer', 'Research Assistant',\n",
       "       'Electronics / Telecom Engineer', 'Teacher', 'Professor',\n",
       "       'Interior Designer', 'Fashion Designer', 'Beautician',\n",
       "       'Software Consultant',\n",
       "       'Medical / Healthcare Professional (Others)',\n",
       "       'Agent / Broker / Trader / Contractor', 'Lawyer',\n",
       "       'Web / UX Designers', 'Pharmacist', 'Research Scholar', 'Actor',\n",
       "       'Entertainment Professional', 'Other Airline Professional',\n",
       "       'Student', 'Customer Support / BPO / KPO Professional',\n",
       "       'Designer (Others)', 'Media Professional',\n",
       "       'Physiotherapist / Occupational Therapist',\n",
       "       'Merchant Naval Officer', 'VP / AVP / GM / DGM',\n",
       "       'CxO / Chairman / Director / President', 'IAS / IRS / IES / IFS',\n",
       "       'Writer', 'Lecturer', 'Social Worker / Volunteer / NGO',\n",
       "       'Jewellery Designer', 'Company Secretary', 'Mariner',\n",
       "       'Advertising Professional', 'Chef / Sommelier / Food Critic',\n",
       "       'Law Enforcement Employee (Others)',\n",
       "       'Veterinary Doctor / Healthcare Professional', 'Hairstylist',\n",
       "       'Agricultural Professional (Others)', 'Farming',\n",
       "       'Indian Police Services (IPS)', 'Dentist', 'Landscape Architect',\n",
       "       'Legal Professional (Others)', 'Psychologist', 'Legal Assistant',\n",
       "       'Surgeon', 'Air Hostess / Flight Attendant',\n",
       "       'Indian Police Services [IPS]', 'Medical Transcriptionist',\n",
       "       'Journalist', 'Physician Assistant', 'Commercial Artist',\n",
       "       'Pilot / Co-Pilot'], dtype=object)"
      ]
     },
     "execution_count": 18,
     "metadata": {},
     "output_type": "execute_result"
    }
   ],
   "source": [
    "data.profession.unique() #nan in not specified"
   ]
  },
  {
   "cell_type": "markdown",
   "metadata": {},
   "source": [
    "# Cleaning"
   ]
  },
  {
   "cell_type": "code",
   "execution_count": 19,
   "metadata": {},
   "outputs": [
    {
     "name": "stdout",
     "output_type": "stream",
     "text": [
      "<class 'pandas.core.frame.DataFrame'>\n",
      "Int64Index: 2414 entries, 0 to 2566\n",
      "Data columns (total 10 columns):\n",
      " #   Column           Non-Null Count  Dtype  \n",
      "---  ------           --------------  -----  \n",
      " 0   id               2414 non-null   int64  \n",
      " 1   gender           2406 non-null   object \n",
      " 2   height           2414 non-null   object \n",
      " 3   religion         1932 non-null   object \n",
      " 4   caste            2309 non-null   object \n",
      " 5   mother_tongue    2306 non-null   object \n",
      " 6   profession       2175 non-null   object \n",
      " 7   location         2317 non-null   object \n",
      " 8   country          2414 non-null   object \n",
      " 9   age_of_marriage  2414 non-null   float64\n",
      "dtypes: float64(1), int64(1), object(8)\n",
      "memory usage: 207.5+ KB\n"
     ]
    }
   ],
   "source": [
    "data.info()"
   ]
  },
  {
   "cell_type": "code",
   "execution_count": 20,
   "metadata": {},
   "outputs": [],
   "source": [
    "data['caste1']=data['caste'].astype(object)"
   ]
  },
  {
   "cell_type": "code",
   "execution_count": 21,
   "metadata": {},
   "outputs": [
    {
     "name": "stdout",
     "output_type": "stream",
     "text": [
      "<class 'pandas.core.frame.DataFrame'>\n",
      "Int64Index: 2414 entries, 0 to 2566\n",
      "Data columns (total 11 columns):\n",
      " #   Column           Non-Null Count  Dtype  \n",
      "---  ------           --------------  -----  \n",
      " 0   id               2414 non-null   int64  \n",
      " 1   gender           2406 non-null   object \n",
      " 2   height           2414 non-null   object \n",
      " 3   religion         1932 non-null   object \n",
      " 4   caste            2309 non-null   object \n",
      " 5   mother_tongue    2306 non-null   object \n",
      " 6   profession       2175 non-null   object \n",
      " 7   location         2317 non-null   object \n",
      " 8   country          2414 non-null   object \n",
      " 9   age_of_marriage  2414 non-null   float64\n",
      " 10  caste1           2309 non-null   object \n",
      "dtypes: float64(1), int64(1), object(9)\n",
      "memory usage: 226.3+ KB\n"
     ]
    }
   ],
   "source": [
    "data.info()"
   ]
  },
  {
   "cell_type": "code",
   "execution_count": 22,
   "metadata": {},
   "outputs": [],
   "source": [
    "data=data.drop('caste',axis=1)"
   ]
  },
  {
   "cell_type": "code",
   "execution_count": 23,
   "metadata": {},
   "outputs": [
    {
     "name": "stdout",
     "output_type": "stream",
     "text": [
      "<class 'pandas.core.frame.DataFrame'>\n",
      "Int64Index: 2414 entries, 0 to 2566\n",
      "Data columns (total 10 columns):\n",
      " #   Column           Non-Null Count  Dtype  \n",
      "---  ------           --------------  -----  \n",
      " 0   id               2414 non-null   int64  \n",
      " 1   gender           2406 non-null   object \n",
      " 2   height           2414 non-null   object \n",
      " 3   religion         1932 non-null   object \n",
      " 4   mother_tongue    2306 non-null   object \n",
      " 5   profession       2175 non-null   object \n",
      " 6   location         2317 non-null   object \n",
      " 7   country          2414 non-null   object \n",
      " 8   age_of_marriage  2414 non-null   float64\n",
      " 9   caste1           2309 non-null   object \n",
      "dtypes: float64(1), int64(1), object(8)\n",
      "memory usage: 207.5+ KB\n"
     ]
    }
   ],
   "source": [
    "data.info()"
   ]
  },
  {
   "cell_type": "code",
   "execution_count": 24,
   "metadata": {},
   "outputs": [],
   "source": [
    "#Change inches to cm\n",
    "def h_cms(h):\n",
    "    return int(h.split('\\'')[0])*30.48+\\\n",
    "    int(h.split('\\'')[1].replace('\"',''))*2.54"
   ]
  },
  {
   "cell_type": "code",
   "execution_count": 25,
   "metadata": {},
   "outputs": [],
   "source": [
    "data['height_cms'] = data.height.apply(h_cms)"
   ]
  },
  {
   "cell_type": "code",
   "execution_count": 26,
   "metadata": {},
   "outputs": [
    {
     "data": {
      "text/html": [
       "<div>\n",
       "<style scoped>\n",
       "    .dataframe tbody tr th:only-of-type {\n",
       "        vertical-align: middle;\n",
       "    }\n",
       "\n",
       "    .dataframe tbody tr th {\n",
       "        vertical-align: top;\n",
       "    }\n",
       "\n",
       "    .dataframe thead th {\n",
       "        text-align: right;\n",
       "    }\n",
       "</style>\n",
       "<table border=\"1\" class=\"dataframe\">\n",
       "  <thead>\n",
       "    <tr style=\"text-align: right;\">\n",
       "      <th></th>\n",
       "      <th>id</th>\n",
       "      <th>gender</th>\n",
       "      <th>height</th>\n",
       "      <th>religion</th>\n",
       "      <th>mother_tongue</th>\n",
       "      <th>profession</th>\n",
       "      <th>location</th>\n",
       "      <th>country</th>\n",
       "      <th>age_of_marriage</th>\n",
       "      <th>caste1</th>\n",
       "      <th>height_cms</th>\n",
       "    </tr>\n",
       "  </thead>\n",
       "  <tbody>\n",
       "    <tr>\n",
       "      <th>0</th>\n",
       "      <td>1</td>\n",
       "      <td>female</td>\n",
       "      <td>5'4\"</td>\n",
       "      <td>NaN</td>\n",
       "      <td>Telugu</td>\n",
       "      <td>NaN</td>\n",
       "      <td>London</td>\n",
       "      <td>United Kingdom</td>\n",
       "      <td>21.0</td>\n",
       "      <td>others</td>\n",
       "      <td>162.56</td>\n",
       "    </tr>\n",
       "    <tr>\n",
       "      <th>1</th>\n",
       "      <td>2</td>\n",
       "      <td>male</td>\n",
       "      <td>5'7\"</td>\n",
       "      <td>Jain</td>\n",
       "      <td>Gujarati</td>\n",
       "      <td>Doctor / Healthcare Professional</td>\n",
       "      <td>Fairfax- VA</td>\n",
       "      <td>USA</td>\n",
       "      <td>32.0</td>\n",
       "      <td>Shwetamber</td>\n",
       "      <td>170.18</td>\n",
       "    </tr>\n",
       "    <tr>\n",
       "      <th>2</th>\n",
       "      <td>3</td>\n",
       "      <td>male</td>\n",
       "      <td>5'7\"</td>\n",
       "      <td>Hindu</td>\n",
       "      <td>Hindi</td>\n",
       "      <td>Entrepreneurs / Business</td>\n",
       "      <td>Begusarai</td>\n",
       "      <td>India</td>\n",
       "      <td>32.0</td>\n",
       "      <td>Brahmin</td>\n",
       "      <td>170.18</td>\n",
       "    </tr>\n",
       "    <tr>\n",
       "      <th>3</th>\n",
       "      <td>4</td>\n",
       "      <td>female</td>\n",
       "      <td>5'0\"</td>\n",
       "      <td>Hindu</td>\n",
       "      <td>Hindi</td>\n",
       "      <td>Architect</td>\n",
       "      <td>Mumbai</td>\n",
       "      <td>India</td>\n",
       "      <td>30.0</td>\n",
       "      <td>Thakur</td>\n",
       "      <td>152.40</td>\n",
       "    </tr>\n",
       "    <tr>\n",
       "      <th>4</th>\n",
       "      <td>5</td>\n",
       "      <td>male</td>\n",
       "      <td>5'5\"</td>\n",
       "      <td>Christian</td>\n",
       "      <td>Malayalam</td>\n",
       "      <td>Sales Professional / Marketing</td>\n",
       "      <td>Sulthan Bathery</td>\n",
       "      <td>India</td>\n",
       "      <td>30.0</td>\n",
       "      <td>Born Again</td>\n",
       "      <td>165.10</td>\n",
       "    </tr>\n",
       "  </tbody>\n",
       "</table>\n",
       "</div>"
      ],
      "text/plain": [
       "   id  gender height   religion mother_tongue  \\\n",
       "0   1  female   5'4\"        NaN        Telugu   \n",
       "1   2    male   5'7\"       Jain      Gujarati   \n",
       "2   3    male   5'7\"      Hindu         Hindi   \n",
       "3   4  female   5'0\"      Hindu         Hindi   \n",
       "4   5    male   5'5\"  Christian     Malayalam   \n",
       "\n",
       "                         profession         location          country  \\\n",
       "0                               NaN           London   United Kingdom   \n",
       "1  Doctor / Healthcare Professional      Fairfax- VA              USA   \n",
       "2         Entrepreneurs / Business         Begusarai            India   \n",
       "3                         Architect           Mumbai            India   \n",
       "4    Sales Professional / Marketing  Sulthan Bathery            India   \n",
       "\n",
       "   age_of_marriage       caste1  height_cms  \n",
       "0             21.0       others      162.56  \n",
       "1             32.0   Shwetamber      170.18  \n",
       "2             32.0      Brahmin      170.18  \n",
       "3             30.0       Thakur      152.40  \n",
       "4             30.0   Born Again      165.10  "
      ]
     },
     "execution_count": 26,
     "metadata": {},
     "output_type": "execute_result"
    }
   ],
   "source": [
    "data.head()"
   ]
  },
  {
   "cell_type": "code",
   "execution_count": 27,
   "metadata": {},
   "outputs": [],
   "source": [
    "data=data.drop('height',axis=1)"
   ]
  },
  {
   "cell_type": "code",
   "execution_count": 28,
   "metadata": {},
   "outputs": [],
   "source": [
    "data=data.drop('id',axis=1)"
   ]
  },
  {
   "cell_type": "code",
   "execution_count": 29,
   "metadata": {},
   "outputs": [
    {
     "data": {
      "text/html": [
       "<div>\n",
       "<style scoped>\n",
       "    .dataframe tbody tr th:only-of-type {\n",
       "        vertical-align: middle;\n",
       "    }\n",
       "\n",
       "    .dataframe tbody tr th {\n",
       "        vertical-align: top;\n",
       "    }\n",
       "\n",
       "    .dataframe thead th {\n",
       "        text-align: right;\n",
       "    }\n",
       "</style>\n",
       "<table border=\"1\" class=\"dataframe\">\n",
       "  <thead>\n",
       "    <tr style=\"text-align: right;\">\n",
       "      <th></th>\n",
       "      <th>gender</th>\n",
       "      <th>religion</th>\n",
       "      <th>mother_tongue</th>\n",
       "      <th>profession</th>\n",
       "      <th>location</th>\n",
       "      <th>country</th>\n",
       "      <th>age_of_marriage</th>\n",
       "      <th>caste1</th>\n",
       "      <th>height_cms</th>\n",
       "    </tr>\n",
       "  </thead>\n",
       "  <tbody>\n",
       "    <tr>\n",
       "      <th>0</th>\n",
       "      <td>female</td>\n",
       "      <td>NaN</td>\n",
       "      <td>Telugu</td>\n",
       "      <td>NaN</td>\n",
       "      <td>London</td>\n",
       "      <td>United Kingdom</td>\n",
       "      <td>21.0</td>\n",
       "      <td>others</td>\n",
       "      <td>162.56</td>\n",
       "    </tr>\n",
       "    <tr>\n",
       "      <th>1</th>\n",
       "      <td>male</td>\n",
       "      <td>Jain</td>\n",
       "      <td>Gujarati</td>\n",
       "      <td>Doctor / Healthcare Professional</td>\n",
       "      <td>Fairfax- VA</td>\n",
       "      <td>USA</td>\n",
       "      <td>32.0</td>\n",
       "      <td>Shwetamber</td>\n",
       "      <td>170.18</td>\n",
       "    </tr>\n",
       "    <tr>\n",
       "      <th>2</th>\n",
       "      <td>male</td>\n",
       "      <td>Hindu</td>\n",
       "      <td>Hindi</td>\n",
       "      <td>Entrepreneurs / Business</td>\n",
       "      <td>Begusarai</td>\n",
       "      <td>India</td>\n",
       "      <td>32.0</td>\n",
       "      <td>Brahmin</td>\n",
       "      <td>170.18</td>\n",
       "    </tr>\n",
       "    <tr>\n",
       "      <th>3</th>\n",
       "      <td>female</td>\n",
       "      <td>Hindu</td>\n",
       "      <td>Hindi</td>\n",
       "      <td>Architect</td>\n",
       "      <td>Mumbai</td>\n",
       "      <td>India</td>\n",
       "      <td>30.0</td>\n",
       "      <td>Thakur</td>\n",
       "      <td>152.40</td>\n",
       "    </tr>\n",
       "    <tr>\n",
       "      <th>4</th>\n",
       "      <td>male</td>\n",
       "      <td>Christian</td>\n",
       "      <td>Malayalam</td>\n",
       "      <td>Sales Professional / Marketing</td>\n",
       "      <td>Sulthan Bathery</td>\n",
       "      <td>India</td>\n",
       "      <td>30.0</td>\n",
       "      <td>Born Again</td>\n",
       "      <td>165.10</td>\n",
       "    </tr>\n",
       "  </tbody>\n",
       "</table>\n",
       "</div>"
      ],
      "text/plain": [
       "   gender   religion mother_tongue                        profession  \\\n",
       "0  female        NaN        Telugu                               NaN   \n",
       "1    male       Jain      Gujarati  Doctor / Healthcare Professional   \n",
       "2    male      Hindu         Hindi         Entrepreneurs / Business    \n",
       "3  female      Hindu         Hindi                         Architect   \n",
       "4    male  Christian     Malayalam    Sales Professional / Marketing   \n",
       "\n",
       "          location          country  age_of_marriage       caste1  height_cms  \n",
       "0           London   United Kingdom             21.0       others      162.56  \n",
       "1      Fairfax- VA              USA             32.0   Shwetamber      170.18  \n",
       "2        Begusarai            India             32.0      Brahmin      170.18  \n",
       "3           Mumbai            India             30.0       Thakur      152.40  \n",
       "4  Sulthan Bathery            India             30.0   Born Again      165.10  "
      ]
     },
     "execution_count": 29,
     "metadata": {},
     "output_type": "execute_result"
    }
   ],
   "source": [
    "data.head()"
   ]
  },
  {
   "cell_type": "markdown",
   "metadata": {},
   "source": [
    "## ENCODER for missing value"
   ]
  },
  {
   "cell_type": "code",
   "execution_count": 30,
   "metadata": {},
   "outputs": [
    {
     "name": "stdout",
     "output_type": "stream",
     "text": [
      "Requirement already satisfied: fancyimpute in ./opt/anaconda3/lib/python3.7/site-packages (0.7.0)\n",
      "Requirement already satisfied: cvxopt in ./opt/anaconda3/lib/python3.7/site-packages (from fancyimpute) (1.2.7)\n",
      "Requirement already satisfied: nose in ./opt/anaconda3/lib/python3.7/site-packages (from fancyimpute) (1.3.7)\n",
      "Requirement already satisfied: knnimpute>=0.1.0 in ./opt/anaconda3/lib/python3.7/site-packages (from fancyimpute) (0.1.0)\n",
      "Requirement already satisfied: scikit-learn>=0.24.2 in ./opt/anaconda3/lib/python3.7/site-packages (from fancyimpute) (1.0.2)\n",
      "Requirement already satisfied: cvxpy in ./opt/anaconda3/lib/python3.7/site-packages (from fancyimpute) (1.1.18)\n",
      "Requirement already satisfied: pytest in ./opt/anaconda3/lib/python3.7/site-packages (from fancyimpute) (5.3.5)\n",
      "Requirement already satisfied: numpy>=1.10 in ./opt/anaconda3/lib/python3.7/site-packages (from knnimpute>=0.1.0->fancyimpute) (1.18.1)\n",
      "Requirement already satisfied: six in ./opt/anaconda3/lib/python3.7/site-packages (from knnimpute>=0.1.0->fancyimpute) (1.14.0)\n",
      "Requirement already satisfied: threadpoolctl>=2.0.0 in ./opt/anaconda3/lib/python3.7/site-packages (from scikit-learn>=0.24.2->fancyimpute) (2.1.0)\n",
      "Requirement already satisfied: joblib>=0.11 in ./opt/anaconda3/lib/python3.7/site-packages (from scikit-learn>=0.24.2->fancyimpute) (0.14.1)\n",
      "Requirement already satisfied: scipy>=1.1.0 in ./opt/anaconda3/lib/python3.7/site-packages (from scikit-learn>=0.24.2->fancyimpute) (1.4.1)\n",
      "Requirement already satisfied: scs>=1.1.6 in ./opt/anaconda3/lib/python3.7/site-packages (from cvxpy->fancyimpute) (3.1.0)\n",
      "Requirement already satisfied: ecos>=2 in ./opt/anaconda3/lib/python3.7/site-packages (from cvxpy->fancyimpute) (2.0.10)\n",
      "Requirement already satisfied: osqp>=0.4.1 in ./opt/anaconda3/lib/python3.7/site-packages (from cvxpy->fancyimpute) (0.6.2.post5)\n",
      "Requirement already satisfied: py>=1.5.0 in ./opt/anaconda3/lib/python3.7/site-packages (from pytest->fancyimpute) (1.8.1)\n",
      "Requirement already satisfied: packaging in ./opt/anaconda3/lib/python3.7/site-packages (from pytest->fancyimpute) (20.1)\n",
      "Requirement already satisfied: attrs>=17.4.0 in ./opt/anaconda3/lib/python3.7/site-packages (from pytest->fancyimpute) (19.3.0)\n",
      "Requirement already satisfied: more-itertools>=4.0.0 in ./opt/anaconda3/lib/python3.7/site-packages (from pytest->fancyimpute) (8.2.0)\n",
      "Requirement already satisfied: pluggy<1.0,>=0.12 in ./opt/anaconda3/lib/python3.7/site-packages (from pytest->fancyimpute) (0.13.1)\n",
      "Requirement already satisfied: wcwidth in ./opt/anaconda3/lib/python3.7/site-packages (from pytest->fancyimpute) (0.1.8)\n",
      "Requirement already satisfied: importlib-metadata>=0.12 in ./opt/anaconda3/lib/python3.7/site-packages (from pytest->fancyimpute) (1.5.0)\n",
      "Requirement already satisfied: qdldl in ./opt/anaconda3/lib/python3.7/site-packages (from osqp>=0.4.1->cvxpy->fancyimpute) (0.1.5.post0)\n",
      "Requirement already satisfied: pyparsing>=2.0.2 in ./opt/anaconda3/lib/python3.7/site-packages (from packaging->pytest->fancyimpute) (2.4.6)\n",
      "Requirement already satisfied: zipp>=0.5 in ./opt/anaconda3/lib/python3.7/site-packages (from importlib-metadata>=0.12->pytest->fancyimpute) (2.2.0)\n",
      "Note: you may need to restart the kernel to use updated packages.\n"
     ]
    }
   ],
   "source": [
    "pip install fancyimpute"
   ]
  },
  {
   "cell_type": "code",
   "execution_count": 31,
   "metadata": {},
   "outputs": [],
   "source": [
    "from fancyimpute import KNN"
   ]
  },
  {
   "cell_type": "markdown",
   "metadata": {},
   "source": []
  },
  {
   "cell_type": "code",
   "execution_count": 32,
   "metadata": {},
   "outputs": [],
   "source": [
    "from sklearn.preprocessing import OrdinalEncoder"
   ]
  },
  {
   "cell_type": "code",
   "execution_count": null,
   "metadata": {},
   "outputs": [],
   "source": []
  },
  {
   "cell_type": "code",
   "execution_count": 33,
   "metadata": {},
   "outputs": [
    {
     "name": "stderr",
     "output_type": "stream",
     "text": [
      "/Users/shivambali/opt/anaconda3/lib/python3.7/site-packages/pandas/core/indexing.py:670: SettingWithCopyWarning: \n",
      "A value is trying to be set on a copy of a slice from a DataFrame\n",
      "\n",
      "See the caveats in the documentation: https://pandas.pydata.org/pandas-docs/stable/user_guide/indexing.html#returning-a-view-versus-a-copy\n",
      "  self._setitem_with_indexer(indexer, value)\n",
      "/Users/shivambali/opt/anaconda3/lib/python3.7/site-packages/pandas/core/indexing.py:670: SettingWithCopyWarning: \n",
      "A value is trying to be set on a copy of a slice from a DataFrame\n",
      "\n",
      "See the caveats in the documentation: https://pandas.pydata.org/pandas-docs/stable/user_guide/indexing.html#returning-a-view-versus-a-copy\n",
      "  self._setitem_with_indexer(indexer, value)\n",
      "/Users/shivambali/opt/anaconda3/lib/python3.7/site-packages/pandas/core/indexing.py:670: SettingWithCopyWarning: \n",
      "A value is trying to be set on a copy of a slice from a DataFrame\n",
      "\n",
      "See the caveats in the documentation: https://pandas.pydata.org/pandas-docs/stable/user_guide/indexing.html#returning-a-view-versus-a-copy\n",
      "  self._setitem_with_indexer(indexer, value)\n",
      "/Users/shivambali/opt/anaconda3/lib/python3.7/site-packages/pandas/core/indexing.py:670: SettingWithCopyWarning: \n",
      "A value is trying to be set on a copy of a slice from a DataFrame\n",
      "\n",
      "See the caveats in the documentation: https://pandas.pydata.org/pandas-docs/stable/user_guide/indexing.html#returning-a-view-versus-a-copy\n",
      "  self._setitem_with_indexer(indexer, value)\n",
      "/Users/shivambali/opt/anaconda3/lib/python3.7/site-packages/pandas/core/indexing.py:670: SettingWithCopyWarning: \n",
      "A value is trying to be set on a copy of a slice from a DataFrame\n",
      "\n",
      "See the caveats in the documentation: https://pandas.pydata.org/pandas-docs/stable/user_guide/indexing.html#returning-a-view-versus-a-copy\n",
      "  self._setitem_with_indexer(indexer, value)\n",
      "/Users/shivambali/opt/anaconda3/lib/python3.7/site-packages/pandas/core/indexing.py:670: SettingWithCopyWarning: \n",
      "A value is trying to be set on a copy of a slice from a DataFrame\n",
      "\n",
      "See the caveats in the documentation: https://pandas.pydata.org/pandas-docs/stable/user_guide/indexing.html#returning-a-view-versus-a-copy\n",
      "  self._setitem_with_indexer(indexer, value)\n",
      "/Users/shivambali/opt/anaconda3/lib/python3.7/site-packages/pandas/core/indexing.py:670: SettingWithCopyWarning: \n",
      "A value is trying to be set on a copy of a slice from a DataFrame\n",
      "\n",
      "See the caveats in the documentation: https://pandas.pydata.org/pandas-docs/stable/user_guide/indexing.html#returning-a-view-versus-a-copy\n",
      "  self._setitem_with_indexer(indexer, value)\n"
     ]
    }
   ],
   "source": [
    "#instantiate both packages to use\n",
    "encoder = OrdinalEncoder()\n",
    "imputer = KNN()\n",
    "# create a list of categorical columns to iterate over\n",
    "cat_cols = ['gender', 'religion', 'mother_tongue', 'profession',\n",
    "       'location', 'country','caste1']\n",
    "\n",
    "def encode(data):\n",
    "    '''function to encode non-null data and replace it in the original data'''\n",
    "    #retains only non-null values\n",
    "    nonulls = np.array(data.dropna())\n",
    "    #reshapes the data for encoding\n",
    "    impute_reshape = nonulls.reshape(-1,1)\n",
    "    #encode date\n",
    "    impute_ordinal = encoder.fit_transform(impute_reshape)\n",
    "    #Assign back encoded values to non-null values\n",
    "    data.loc[data.notnull()] = np.squeeze(impute_ordinal)\n",
    "    return data\n",
    "\n",
    "#create a for loop to iterate through each column in the data\n",
    "for columns in cat_cols:\n",
    "    encode(data[columns])\n"
   ]
  },
  {
   "cell_type": "code",
   "execution_count": 34,
   "metadata": {},
   "outputs": [
    {
     "data": {
      "text/html": [
       "<div>\n",
       "<style scoped>\n",
       "    .dataframe tbody tr th:only-of-type {\n",
       "        vertical-align: middle;\n",
       "    }\n",
       "\n",
       "    .dataframe tbody tr th {\n",
       "        vertical-align: top;\n",
       "    }\n",
       "\n",
       "    .dataframe thead th {\n",
       "        text-align: right;\n",
       "    }\n",
       "</style>\n",
       "<table border=\"1\" class=\"dataframe\">\n",
       "  <thead>\n",
       "    <tr style=\"text-align: right;\">\n",
       "      <th></th>\n",
       "      <th>gender</th>\n",
       "      <th>religion</th>\n",
       "      <th>mother_tongue</th>\n",
       "      <th>profession</th>\n",
       "      <th>location</th>\n",
       "      <th>country</th>\n",
       "      <th>age_of_marriage</th>\n",
       "      <th>caste1</th>\n",
       "      <th>height_cms</th>\n",
       "    </tr>\n",
       "  </thead>\n",
       "  <tbody>\n",
       "    <tr>\n",
       "      <th>0</th>\n",
       "      <td>0</td>\n",
       "      <td>NaN</td>\n",
       "      <td>24</td>\n",
       "      <td>NaN</td>\n",
       "      <td>293</td>\n",
       "      <td>27.0</td>\n",
       "      <td>21.0</td>\n",
       "      <td>41</td>\n",
       "      <td>162.56</td>\n",
       "    </tr>\n",
       "    <tr>\n",
       "      <th>1</th>\n",
       "      <td>1</td>\n",
       "      <td>2</td>\n",
       "      <td>6</td>\n",
       "      <td>22</td>\n",
       "      <td>166</td>\n",
       "      <td>25.0</td>\n",
       "      <td>32.0</td>\n",
       "      <td>34</td>\n",
       "      <td>170.18</td>\n",
       "    </tr>\n",
       "    <tr>\n",
       "      <th>2</th>\n",
       "      <td>1</td>\n",
       "      <td>1</td>\n",
       "      <td>8</td>\n",
       "      <td>25</td>\n",
       "      <td>60</td>\n",
       "      <td>7.0</td>\n",
       "      <td>32.0</td>\n",
       "      <td>14</td>\n",
       "      <td>170.18</td>\n",
       "    </tr>\n",
       "    <tr>\n",
       "      <th>3</th>\n",
       "      <td>0</td>\n",
       "      <td>1</td>\n",
       "      <td>8</td>\n",
       "      <td>7</td>\n",
       "      <td>328</td>\n",
       "      <td>7.0</td>\n",
       "      <td>30.0</td>\n",
       "      <td>36</td>\n",
       "      <td>152.40</td>\n",
       "    </tr>\n",
       "    <tr>\n",
       "      <th>4</th>\n",
       "      <td>1</td>\n",
       "      <td>0</td>\n",
       "      <td>13</td>\n",
       "      <td>70</td>\n",
       "      <td>458</td>\n",
       "      <td>7.0</td>\n",
       "      <td>30.0</td>\n",
       "      <td>13</td>\n",
       "      <td>165.10</td>\n",
       "    </tr>\n",
       "  </tbody>\n",
       "</table>\n",
       "</div>"
      ],
      "text/plain": [
       "  gender religion mother_tongue profession location  country  age_of_marriage  \\\n",
       "0      0      NaN            24        NaN      293     27.0             21.0   \n",
       "1      1        2             6         22      166     25.0             32.0   \n",
       "2      1        1             8         25       60      7.0             32.0   \n",
       "3      0        1             8          7      328      7.0             30.0   \n",
       "4      1        0            13         70      458      7.0             30.0   \n",
       "\n",
       "  caste1  height_cms  \n",
       "0     41      162.56  \n",
       "1     34      170.18  \n",
       "2     14      170.18  \n",
       "3     36      152.40  \n",
       "4     13      165.10  "
      ]
     },
     "execution_count": 34,
     "metadata": {},
     "output_type": "execute_result"
    }
   ],
   "source": [
    "data.head()"
   ]
  },
  {
   "cell_type": "code",
   "execution_count": 35,
   "metadata": {},
   "outputs": [
    {
     "name": "stdout",
     "output_type": "stream",
     "text": [
      "Imputing row 1/2414 with 2 missing, elapsed time: 1.059\n",
      "Imputing row 101/2414 with 0 missing, elapsed time: 1.066\n",
      "Imputing row 201/2414 with 4 missing, elapsed time: 1.068\n",
      "Imputing row 301/2414 with 3 missing, elapsed time: 1.071\n",
      "Imputing row 401/2414 with 0 missing, elapsed time: 1.073\n",
      "Imputing row 501/2414 with 0 missing, elapsed time: 1.075\n",
      "Imputing row 601/2414 with 0 missing, elapsed time: 1.078\n",
      "Imputing row 701/2414 with 0 missing, elapsed time: 1.080\n",
      "Imputing row 801/2414 with 0 missing, elapsed time: 1.083\n",
      "Imputing row 901/2414 with 0 missing, elapsed time: 1.085\n",
      "Imputing row 1001/2414 with 0 missing, elapsed time: 1.087\n",
      "Imputing row 1101/2414 with 0 missing, elapsed time: 1.090\n",
      "Imputing row 1201/2414 with 0 missing, elapsed time: 1.092\n",
      "Imputing row 1301/2414 with 0 missing, elapsed time: 1.094\n",
      "Imputing row 1401/2414 with 1 missing, elapsed time: 1.097\n",
      "Imputing row 1501/2414 with 0 missing, elapsed time: 1.099\n",
      "Imputing row 1601/2414 with 0 missing, elapsed time: 1.101\n",
      "Imputing row 1701/2414 with 0 missing, elapsed time: 1.104\n",
      "Imputing row 1801/2414 with 0 missing, elapsed time: 1.105\n",
      "Imputing row 1901/2414 with 0 missing, elapsed time: 1.108\n",
      "Imputing row 2001/2414 with 0 missing, elapsed time: 1.110\n",
      "Imputing row 2101/2414 with 0 missing, elapsed time: 1.113\n",
      "Imputing row 2201/2414 with 0 missing, elapsed time: 1.115\n",
      "Imputing row 2301/2414 with 0 missing, elapsed time: 1.118\n",
      "Imputing row 2401/2414 with 0 missing, elapsed time: 1.120\n"
     ]
    }
   ],
   "source": [
    "# impute data and convert \n",
    "encode_data = pd.DataFrame(np.round(imputer.fit_transform(data)),columns = data.columns)"
   ]
  },
  {
   "cell_type": "code",
   "execution_count": 36,
   "metadata": {},
   "outputs": [
    {
     "data": {
      "text/html": [
       "<div>\n",
       "<style scoped>\n",
       "    .dataframe tbody tr th:only-of-type {\n",
       "        vertical-align: middle;\n",
       "    }\n",
       "\n",
       "    .dataframe tbody tr th {\n",
       "        vertical-align: top;\n",
       "    }\n",
       "\n",
       "    .dataframe thead th {\n",
       "        text-align: right;\n",
       "    }\n",
       "</style>\n",
       "<table border=\"1\" class=\"dataframe\">\n",
       "  <thead>\n",
       "    <tr style=\"text-align: right;\">\n",
       "      <th></th>\n",
       "      <th>gender</th>\n",
       "      <th>religion</th>\n",
       "      <th>mother_tongue</th>\n",
       "      <th>profession</th>\n",
       "      <th>location</th>\n",
       "      <th>country</th>\n",
       "      <th>age_of_marriage</th>\n",
       "      <th>caste1</th>\n",
       "      <th>height_cms</th>\n",
       "    </tr>\n",
       "  </thead>\n",
       "  <tbody>\n",
       "    <tr>\n",
       "      <th>0</th>\n",
       "      <td>0.0</td>\n",
       "      <td>1.0</td>\n",
       "      <td>24.0</td>\n",
       "      <td>34.0</td>\n",
       "      <td>293.0</td>\n",
       "      <td>27.0</td>\n",
       "      <td>21.0</td>\n",
       "      <td>41.0</td>\n",
       "      <td>163.0</td>\n",
       "    </tr>\n",
       "    <tr>\n",
       "      <th>1</th>\n",
       "      <td>1.0</td>\n",
       "      <td>2.0</td>\n",
       "      <td>6.0</td>\n",
       "      <td>22.0</td>\n",
       "      <td>166.0</td>\n",
       "      <td>25.0</td>\n",
       "      <td>32.0</td>\n",
       "      <td>34.0</td>\n",
       "      <td>170.0</td>\n",
       "    </tr>\n",
       "    <tr>\n",
       "      <th>2</th>\n",
       "      <td>1.0</td>\n",
       "      <td>1.0</td>\n",
       "      <td>8.0</td>\n",
       "      <td>25.0</td>\n",
       "      <td>60.0</td>\n",
       "      <td>7.0</td>\n",
       "      <td>32.0</td>\n",
       "      <td>14.0</td>\n",
       "      <td>170.0</td>\n",
       "    </tr>\n",
       "    <tr>\n",
       "      <th>3</th>\n",
       "      <td>0.0</td>\n",
       "      <td>1.0</td>\n",
       "      <td>8.0</td>\n",
       "      <td>7.0</td>\n",
       "      <td>328.0</td>\n",
       "      <td>7.0</td>\n",
       "      <td>30.0</td>\n",
       "      <td>36.0</td>\n",
       "      <td>152.0</td>\n",
       "    </tr>\n",
       "    <tr>\n",
       "      <th>4</th>\n",
       "      <td>1.0</td>\n",
       "      <td>0.0</td>\n",
       "      <td>13.0</td>\n",
       "      <td>70.0</td>\n",
       "      <td>458.0</td>\n",
       "      <td>7.0</td>\n",
       "      <td>30.0</td>\n",
       "      <td>13.0</td>\n",
       "      <td>165.0</td>\n",
       "    </tr>\n",
       "  </tbody>\n",
       "</table>\n",
       "</div>"
      ],
      "text/plain": [
       "   gender  religion  mother_tongue  profession  location  country  \\\n",
       "0     0.0       1.0           24.0        34.0     293.0     27.0   \n",
       "1     1.0       2.0            6.0        22.0     166.0     25.0   \n",
       "2     1.0       1.0            8.0        25.0      60.0      7.0   \n",
       "3     0.0       1.0            8.0         7.0     328.0      7.0   \n",
       "4     1.0       0.0           13.0        70.0     458.0      7.0   \n",
       "\n",
       "   age_of_marriage  caste1  height_cms  \n",
       "0             21.0    41.0       163.0  \n",
       "1             32.0    34.0       170.0  \n",
       "2             32.0    14.0       170.0  \n",
       "3             30.0    36.0       152.0  \n",
       "4             30.0    13.0       165.0  "
      ]
     },
     "execution_count": 36,
     "metadata": {},
     "output_type": "execute_result"
    }
   ],
   "source": [
    "encode_data.head()"
   ]
  },
  {
   "cell_type": "code",
   "execution_count": 37,
   "metadata": {},
   "outputs": [
    {
     "name": "stdout",
     "output_type": "stream",
     "text": [
      "<class 'pandas.core.frame.DataFrame'>\n",
      "RangeIndex: 2414 entries, 0 to 2413\n",
      "Data columns (total 9 columns):\n",
      " #   Column           Non-Null Count  Dtype  \n",
      "---  ------           --------------  -----  \n",
      " 0   gender           2414 non-null   float64\n",
      " 1   religion         2414 non-null   float64\n",
      " 2   mother_tongue    2414 non-null   float64\n",
      " 3   profession       2414 non-null   float64\n",
      " 4   location         2414 non-null   float64\n",
      " 5   country          2414 non-null   float64\n",
      " 6   age_of_marriage  2414 non-null   float64\n",
      " 7   caste1           2414 non-null   float64\n",
      " 8   height_cms       2414 non-null   float64\n",
      "dtypes: float64(9)\n",
      "memory usage: 169.9 KB\n"
     ]
    }
   ],
   "source": [
    "encode_data.info()"
   ]
  },
  {
   "cell_type": "code",
   "execution_count": 38,
   "metadata": {},
   "outputs": [
    {
     "data": {
      "text/html": [
       "<div>\n",
       "<style scoped>\n",
       "    .dataframe tbody tr th:only-of-type {\n",
       "        vertical-align: middle;\n",
       "    }\n",
       "\n",
       "    .dataframe tbody tr th {\n",
       "        vertical-align: top;\n",
       "    }\n",
       "\n",
       "    .dataframe thead th {\n",
       "        text-align: right;\n",
       "    }\n",
       "</style>\n",
       "<table border=\"1\" class=\"dataframe\">\n",
       "  <thead>\n",
       "    <tr style=\"text-align: right;\">\n",
       "      <th></th>\n",
       "      <th>gender</th>\n",
       "      <th>religion</th>\n",
       "      <th>mother_tongue</th>\n",
       "      <th>profession</th>\n",
       "      <th>location</th>\n",
       "      <th>country</th>\n",
       "      <th>age_of_marriage</th>\n",
       "      <th>caste1</th>\n",
       "      <th>height_cms</th>\n",
       "    </tr>\n",
       "  </thead>\n",
       "  <tbody>\n",
       "    <tr>\n",
       "      <th>0</th>\n",
       "      <td>0.0</td>\n",
       "      <td>1.0</td>\n",
       "      <td>24.0</td>\n",
       "      <td>34.0</td>\n",
       "      <td>293.0</td>\n",
       "      <td>27.0</td>\n",
       "      <td>21.0</td>\n",
       "      <td>41.0</td>\n",
       "      <td>163.0</td>\n",
       "    </tr>\n",
       "    <tr>\n",
       "      <th>1</th>\n",
       "      <td>1.0</td>\n",
       "      <td>2.0</td>\n",
       "      <td>6.0</td>\n",
       "      <td>22.0</td>\n",
       "      <td>166.0</td>\n",
       "      <td>25.0</td>\n",
       "      <td>32.0</td>\n",
       "      <td>34.0</td>\n",
       "      <td>170.0</td>\n",
       "    </tr>\n",
       "    <tr>\n",
       "      <th>2</th>\n",
       "      <td>1.0</td>\n",
       "      <td>1.0</td>\n",
       "      <td>8.0</td>\n",
       "      <td>25.0</td>\n",
       "      <td>60.0</td>\n",
       "      <td>7.0</td>\n",
       "      <td>32.0</td>\n",
       "      <td>14.0</td>\n",
       "      <td>170.0</td>\n",
       "    </tr>\n",
       "    <tr>\n",
       "      <th>3</th>\n",
       "      <td>0.0</td>\n",
       "      <td>1.0</td>\n",
       "      <td>8.0</td>\n",
       "      <td>7.0</td>\n",
       "      <td>328.0</td>\n",
       "      <td>7.0</td>\n",
       "      <td>30.0</td>\n",
       "      <td>36.0</td>\n",
       "      <td>152.0</td>\n",
       "    </tr>\n",
       "    <tr>\n",
       "      <th>4</th>\n",
       "      <td>1.0</td>\n",
       "      <td>0.0</td>\n",
       "      <td>13.0</td>\n",
       "      <td>70.0</td>\n",
       "      <td>458.0</td>\n",
       "      <td>7.0</td>\n",
       "      <td>30.0</td>\n",
       "      <td>13.0</td>\n",
       "      <td>165.0</td>\n",
       "    </tr>\n",
       "  </tbody>\n",
       "</table>\n",
       "</div>"
      ],
      "text/plain": [
       "   gender  religion  mother_tongue  profession  location  country  \\\n",
       "0     0.0       1.0           24.0        34.0     293.0     27.0   \n",
       "1     1.0       2.0            6.0        22.0     166.0     25.0   \n",
       "2     1.0       1.0            8.0        25.0      60.0      7.0   \n",
       "3     0.0       1.0            8.0         7.0     328.0      7.0   \n",
       "4     1.0       0.0           13.0        70.0     458.0      7.0   \n",
       "\n",
       "   age_of_marriage  caste1  height_cms  \n",
       "0             21.0    41.0       163.0  \n",
       "1             32.0    34.0       170.0  \n",
       "2             32.0    14.0       170.0  \n",
       "3             30.0    36.0       152.0  \n",
       "4             30.0    13.0       165.0  "
      ]
     },
     "execution_count": 38,
     "metadata": {},
     "output_type": "execute_result"
    }
   ],
   "source": [
    "encode_data.head()"
   ]
  },
  {
   "cell_type": "code",
   "execution_count": 39,
   "metadata": {},
   "outputs": [
    {
     "data": {
      "text/plain": [
       "array([[<matplotlib.axes._subplots.AxesSubplot object at 0x11ca287d0>,\n",
       "        <matplotlib.axes._subplots.AxesSubplot object at 0x1a3ea11750>,\n",
       "        <matplotlib.axes._subplots.AxesSubplot object at 0x1a3ea44e10>],\n",
       "       [<matplotlib.axes._subplots.AxesSubplot object at 0x1a3ea88650>,\n",
       "        <matplotlib.axes._subplots.AxesSubplot object at 0x1a3eab9e50>,\n",
       "        <matplotlib.axes._subplots.AxesSubplot object at 0x1a3eaf9690>],\n",
       "       [<matplotlib.axes._subplots.AxesSubplot object at 0x1a3eb2ee90>,\n",
       "        <matplotlib.axes._subplots.AxesSubplot object at 0x1a3eb6d6d0>,\n",
       "        <matplotlib.axes._subplots.AxesSubplot object at 0x1a3eb78250>]],\n",
       "      dtype=object)"
      ]
     },
     "execution_count": 39,
     "metadata": {},
     "output_type": "execute_result"
    },
    {
     "data": {
      "image/png": "[encoded data removed]",
      "text/plain": [
       "<Figure size 1440x1080 with 9 Axes>"
      ]
     },
     "metadata": {
      "needs_background": "light"
     },
     "output_type": "display_data"
    }
   ],
   "source": [
    "encode_data.hist(bins=50,figsize=(20,15))"
   ]
  },
  {
   "cell_type": "markdown",
   "metadata": {},
   "source": [
    "# CORRELATION"
   ]
  },
  {
   "cell_type": "code",
   "execution_count": 40,
   "metadata": {},
   "outputs": [
    {
     "data": {
      "text/plain": [
       "age_of_marriage    1.000000\n",
       "height_cms         0.231366\n",
       "gender             0.205230\n",
       "country            0.093598\n",
       "religion           0.048148\n",
       "location           0.019039\n",
       "mother_tongue     -0.040415\n",
       "profession        -0.044311\n",
       "caste1            -0.139967\n",
       "Name: age_of_marriage, dtype: float64"
      ]
     },
     "execution_count": 40,
     "metadata": {},
     "output_type": "execute_result"
    }
   ],
   "source": [
    "corr_matrix=encode_data.corr()\n",
    "corr_matrix['age_of_marriage'].sort_values(ascending=False)"
   ]
  },
  {
   "cell_type": "code",
   "execution_count": 41,
   "metadata": {},
   "outputs": [],
   "source": [
    "import matplotlib.pyplot as plt\n",
    "%matplotlib inline"
   ]
  },
  {
   "cell_type": "code",
   "execution_count": 42,
   "metadata": {},
   "outputs": [],
   "source": [
    "import seaborn as sns"
   ]
  },
  {
   "cell_type": "code",
   "execution_count": 43,
   "metadata": {},
   "outputs": [
    {
     "data": {
      "image/png": "[encoded data removed]",
      "text/plain": [
       "<Figure size 1440x1440 with 2 Axes>"
      ]
     },
     "metadata": {
      "needs_background": "light"
     },
     "output_type": "display_data"
    }
   ],
   "source": [
    "corrmat=encode_data.corr()\n",
    "top_corr_features=corrmat.index\n",
    "plt.figure(figsize=(20,20)) #plot heat map\n",
    "g=sns.heatmap(encode_data[top_corr_features].corr(),annot=True,cmap=\"RdYlGn\")"
   ]
  },
  {
   "cell_type": "code",
   "execution_count": 44,
   "metadata": {},
   "outputs": [
    {
     "data": {
      "text/plain": [
       "Index(['gender', 'religion', 'mother_tongue', 'profession', 'location',\n",
       "       'country', 'age_of_marriage', 'caste1', 'height_cms'],\n",
       "      dtype='object')"
      ]
     },
     "execution_count": 44,
     "metadata": {},
     "output_type": "execute_result"
    }
   ],
   "source": [
    "encode_data.columns"
   ]
  },
  {
   "cell_type": "code",
   "execution_count": 45,
   "metadata": {},
   "outputs": [],
   "source": [
    "#indipendent and dependent features\n",
    "X=encode_data[['gender', 'religion', 'mother_tongue', 'profession', 'location',\n",
    "       'country','caste1', 'height_cms']]\n",
    "y=encode_data['age_of_marriage']"
   ]
  },
  {
   "cell_type": "code",
   "execution_count": 46,
   "metadata": {},
   "outputs": [
    {
     "data": {
      "text/plain": [
       "ExtraTreesRegressor()"
      ]
     },
     "execution_count": 46,
     "metadata": {},
     "output_type": "execute_result"
    }
   ],
   "source": [
    "##Feature importance\n",
    "from sklearn.ensemble import ExtraTreesRegressor\n",
    "model=ExtraTreesRegressor()\n",
    "model.fit(X,y)"
   ]
  },
  {
   "cell_type": "code",
   "execution_count": 47,
   "metadata": {},
   "outputs": [
    {
     "name": "stdout",
     "output_type": "stream",
     "text": [
      "[0.04367336 0.06169299 0.15385145 0.14230105 0.12933649 0.03933936\n",
      " 0.28427709 0.14552821]\n"
     ]
    }
   ],
   "source": [
    "print(model.feature_importances_)"
   ]
  },
  {
   "cell_type": "code",
   "execution_count": 48,
   "metadata": {},
   "outputs": [
    {
     "data": {
      "image/png": "[encoded data removed]",
      "text/plain": [
       "<Figure size 432x288 with 1 Axes>"
      ]
     },
     "metadata": {
      "needs_background": "light"
     },
     "output_type": "display_data"
    }
   ],
   "source": [
    "#plot graph for feature importance\n",
    "\n",
    "feat_importances=pd.Series(model.feature_importances_,index=X.columns)\n",
    "feat_importances.nlargest(5).plot(kind='barh')\n",
    "plt.show()"
   ]
  },
  {
   "cell_type": "code",
   "execution_count": 49,
   "metadata": {},
   "outputs": [],
   "source": [
    "from sklearn.model_selection import train_test_split\n",
    "X_train,X_test,y_train,y_test=train_test_split(X,y,test_size=0.2)"
   ]
  },
  {
   "cell_type": "code",
   "execution_count": 50,
   "metadata": {},
   "outputs": [
    {
     "data": {
      "text/plain": [
       "(1931, 8)"
      ]
     },
     "execution_count": 50,
     "metadata": {},
     "output_type": "execute_result"
    }
   ],
   "source": [
    "X_train.shape"
   ]
  },
  {
   "cell_type": "code",
   "execution_count": 51,
   "metadata": {},
   "outputs": [
    {
     "data": {
      "text/plain": [
       "(483, 8)"
      ]
     },
     "execution_count": 51,
     "metadata": {},
     "output_type": "execute_result"
    }
   ],
   "source": [
    "X_test.shape"
   ]
  },
  {
   "cell_type": "code",
   "execution_count": 58,
   "metadata": {},
   "outputs": [],
   "source": [
    "from sklearn.ensemble import RandomForestRegressor\n",
    "model=RandomForestRegressor(n_estimators=100,max_depth=15)\n",
    "model.fit(X_train,y_train)\n",
    "y_predict=model.predict(X_test)"
   ]
  },
  {
   "cell_type": "markdown",
   "metadata": {},
   "source": [
    "# EVALUATION"
   ]
  },
  {
   "cell_type": "code",
   "execution_count": 65,
   "metadata": {},
   "outputs": [
    {
     "name": "stdout",
     "output_type": "stream",
     "text": [
      "MAE: 1.4426680097092341\n"
     ]
    }
   ],
   "source": [
    "from sklearn.metrics import mean_absolute_error\n",
    "print('MAE:',mean_absolute_error(y_test,y_predict))\n"
   ]
  },
  {
   "cell_type": "markdown",
   "metadata": {},
   "source": [
    "# EXPORT THE MODEL\n"
   ]
  },
  {
   "cell_type": "code",
   "execution_count": 69,
   "metadata": {},
   "outputs": [
    {
     "data": {
      "text/plain": [
       "['marriage.joblib']"
      ]
     },
     "execution_count": 69,
     "metadata": {},
     "output_type": "execute_result"
    }
   ],
   "source": [
    "from joblib import dump, load\n",
    "dump(model, 'marriage.joblib')"
   ]
  },
  {
   "cell_type": "code",
   "execution_count": 68,
   "metadata": {},
   "outputs": [
    {
     "ename": "ImportError",
     "evalue": "cannot import name 'joblib' from 'sklearn.externals' (/Users/shivambali/opt/anaconda3/lib/python3.7/site-packages/sklearn/externals/__init__.py)",
     "output_type": "error",
     "traceback": [
      "\u001b[0;31m---------------------------------------------------------------------------\u001b[0m",
      "\u001b[0;31mImportError\u001b[0m                               Traceback (most recent call last)",
      "\u001b[0;32m<ipython-input-68-13c136ab4396>\u001b[0m in \u001b[0;36m<module>\u001b[0;34m\u001b[0m\n\u001b[0;32m----> 1\u001b[0;31m \u001b[0;32mfrom\u001b[0m \u001b[0msklearn\u001b[0m\u001b[0;34m.\u001b[0m\u001b[0mexternals\u001b[0m \u001b[0;32mimport\u001b[0m \u001b[0mjoblib\u001b[0m\u001b[0;34m\u001b[0m\u001b[0;34m\u001b[0m\u001b[0m\n\u001b[0m\u001b[1;32m      2\u001b[0m \u001b[0mjoblib\u001b[0m\u001b[0;34m.\u001b[0m\u001b[0mdump\u001b[0m\u001b[0;34m(\u001b[0m\u001b[0mmodel\u001b[0m\u001b[0;34m,\u001b[0m\u001b[0;34m'marriage_age.ml'\u001b[0m\u001b[0;34m)\u001b[0m\u001b[0;34m\u001b[0m\u001b[0;34m\u001b[0m\u001b[0m\n",
      "\u001b[0;31mImportError\u001b[0m: cannot import name 'joblib' from 'sklearn.externals' (/Users/shivambali/opt/anaconda3/lib/python3.7/site-packages/sklearn/externals/__init__.py)"
     ]
    }
   ],
   "source": []
  },
  {
   "cell_type": "code",
   "execution_count": null,
   "metadata": {},
   "outputs": [],
   "source": []
  }
 ],
 "metadata": {
  "kernelspec": {
   "display_name": "Python 3",
   "language": "python",
   "name": "python3"
  },
  "language_info": {
   "codemirror_mode": {
    "name": "ipython",
    "version": 3
   },
   "file_extension": ".py",
   "mimetype": "text/x-python",
   "name": "python",
   "nbconvert_exporter": "python",
   "pygments_lexer": "ipython3",
   "version": "3.7.6"
  }
 },
 "nbformat": 4,
 "nbformat_minor": 4
}
